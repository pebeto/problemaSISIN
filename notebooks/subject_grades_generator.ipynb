{
 "cells": [
  {
   "cell_type": "code",
   "execution_count": 1,
   "metadata": {},
   "outputs": [],
   "source": [
    "import csv\n",
    "import random"
   ]
  },
  {
   "cell_type": "code",
   "execution_count": 2,
   "metadata": {},
   "outputs": [],
   "source": [
    "HEADER = ['test_1', 'test_2', 'test_3', 'final_grade']\n",
    "N_STUDENT = 100000"
   ]
  },
  {
   "cell_type": "code",
   "execution_count": 3,
   "metadata": {},
   "outputs": [],
   "source": [
    "def save_to_csv(data):\n",
    "    with open('../data/subject_grades.csv', mode='w') as csv_file:\n",
    "        writer = csv.writer(csv_file,\n",
    "                            delimiter=',',\n",
    "                            quotechar='\"', \n",
    "                            quoting=csv.QUOTE_MINIMAL)\n",
    "        \n",
    "        writer.writerow(HEADER)\n",
    "        \n",
    "        for entry in data:\n",
    "            writer.writerow(entry)"
   ]
  },
  {
   "cell_type": "code",
   "execution_count": 4,
   "metadata": {},
   "outputs": [],
   "source": [
    "def generate_data():\n",
    "    data = []\n",
    "    i = 0\n",
    "    \n",
    "    while i < N_STUDENT:\n",
    "        test_1 = random.randint(0, 20)\n",
    "        test_2 = random.randint(0, 20)\n",
    "        test_3 = random.randint(0, 20)\n",
    "        \n",
    "        entry = [test_1, \n",
    "                 test_2,\n",
    "                 test_3,\n",
    "                 check_test_criteria([test_1,\n",
    "                                      test_2,\n",
    "                                      test_3])]\n",
    "        \n",
    "        data.append(entry)\n",
    "        \n",
    "        i += 1\n",
    "    \n",
    "    return data\n",
    "\n",
    "def check_test_criteria(tests):\n",
    "    return int(sum([1 for test in tests if test > 11]) > 1)"
   ]
  },
  {
   "cell_type": "code",
   "execution_count": 5,
   "metadata": {},
   "outputs": [],
   "source": [
    "data = generate_data()\n",
    "save_to_csv(data)"
   ]
  }
 ],
 "metadata": {
  "kernelspec": {
   "display_name": "Python 3",
   "language": "python",
   "name": "python3"
  },
  "language_info": {
   "codemirror_mode": {
    "name": "ipython",
    "version": 3
   },
   "file_extension": ".py",
   "mimetype": "text/x-python",
   "name": "python",
   "nbconvert_exporter": "python",
   "pygments_lexer": "ipython3",
   "version": "3.9.1"
  }
 },
 "nbformat": 4,
 "nbformat_minor": 4
}
